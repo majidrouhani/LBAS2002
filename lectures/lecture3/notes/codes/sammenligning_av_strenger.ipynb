{
 "cells": [
  {
   "attachments": {},
   "cell_type": "markdown",
   "metadata": {
    "deletable": false,
    "editable": false,
    "run_control": {
     "frozen": true
    }
   },
   "source": [
    "# Sammenligning av strenger\n",
    "\n",
    "**Læringsmål:**\n",
    "- Betingelser\n",
    "- Kodeforståelse\n",
    "\n"
   ]
  },
  {
   "cell_type": "markdown",
   "metadata": {
    "deletable": false,
    "editable": false,
    "heading_collapsed": true,
    "run_control": {
     "frozen": true
    }
   },
   "source": [
    "## Generelt om sammenligning av strenger\n",
    "Trykk på pilen til venstre for å lese"
   ]
  },
  {
   "cell_type": "markdown",
   "metadata": {
    "deletable": false,
    "editable": false,
    "hidden": true,
    "run_control": {
     "frozen": true
    }
   },
   "source": [
    "\n",
    "Når man sammenligner to strenger i Python vil strengene sammenlignes karakter for karakter. F.eks. vil et program som sammenligner strengene `\"Ola\"` og `\"Ole\"` og sjekker om de er like, først sammenligne `'O'` mot `'O'`, så `'l'` mot `'l'`, og til slutt `'a'` mot `'e'`. Det er først ved sammenligningen av `'a'` mot `'e'` at det vil bli returnert `False`."
   ]
  },
  {
   "cell_type": "code",
   "execution_count": null,
   "metadata": {
    "ExecuteTime": {
     "end_time": "2019-07-01T13:28:36.030253Z",
     "start_time": "2019-07-01T13:28:36.020435Z"
    },
    "hidden": true
   },
   "outputs": [],
   "source": [
    "a = \"Ola\"\n",
    "b = \"Ole\"\n",
    "  \n",
    "print(\"Sammenligner\", a, \"og\", b)\n",
    "if a == b:\n",
    "    print(\"Navnene er like\")\n",
    "else:\n",
    "    print(\"Navnene er IKKE like\")"
   ]
  },
  {
   "cell_type": "markdown",
   "metadata": {
    "deletable": false,
    "editable": false,
    "hidden": true,
    "run_control": {
     "frozen": true
    }
   },
   "source": [
    "Om man derimot sammenligner navnene Markus og Marcus, vil testen av betingelsen returnere `False` når `'k'` blir sammenlignet med `'c'`. Det betyr at `'u'`  mot `'u'` og `'s'` mot `'s'` ikke blir sjekket."
   ]
  },
  {
   "cell_type": "code",
   "execution_count": null,
   "metadata": {
    "ExecuteTime": {
     "end_time": "2019-07-01T13:30:06.268914Z",
     "start_time": "2019-07-01T13:30:06.261563Z"
    },
    "hidden": true
   },
   "outputs": [],
   "source": [
    "a = \"Markus\"\n",
    "b = \"Marcus\"\n",
    "  \n",
    "print(\"Sammenligner\", a, \"og\", b)\n",
    "if a == b:\n",
    "    print(\"Navnene er like\")\n",
    "else:\n",
    "    print(\"Navnene er IKKE like\")"
   ]
  },
  {
   "cell_type": "markdown",
   "metadata": {
    "deletable": false,
    "editable": false,
    "hidden": true,
    "run_control": {
     "frozen": true
    }
   },
   "source": [
    "Prøv gjerne ut koden over med andre verdier selv. Andre eksempler på kjøring kan være:\n",
    "```python\n",
    "# a = \"Ann\", b = \"Anne\"\n",
    "Sammenligner Ann og Anne\n",
    "Navnene er IKKE like\n",
    "```\n",
    "```python  \n",
    "# a = \"Anders\", b = \"Anders\"\n",
    "Sammenligner Anders og Anders\n",
    "Navnene er like\n",
    "```\n",
    "  \n",
    "```python\n",
    "# a = \"Anders\", b = \"anders\"\n",
    "Sammenligner Anders og anders\n",
    "Navnene er IKKE like\n",
    "```\n",
    "\n",
    "Som du ser i siste kjøring, skiller Python mellom store og små bokstaver, og en stor A er ikke det samme som en liten a. Dette kommer av at tegnene i strengene lagres som tall, og det er disse tallene som sammenlignes. I ASCII er karakterene A til Z representert med tallene 65 til 90, og karakterene a til z er representert med tallene 97 til 122."
   ]
  }
 ],
 "metadata": {
  "kernelspec": {
   "display_name": "Python 3",
   "language": "python",
   "name": "python3"
  },
  "language_info": {
   "codemirror_mode": {
    "name": "ipython",
    "version": 3
   },
   "file_extension": ".py",
   "mimetype": "text/x-python",
   "name": "python",
   "nbconvert_exporter": "python",
   "pygments_lexer": "ipython3",
   "version": "3.7.3"
  },
  "toc": {
   "base_numbering": 1,
   "nav_menu": {},
   "number_sections": false,
   "sideBar": true,
   "skip_h1_title": false,
   "title_cell": "Table of Contents",
   "title_sidebar": "Contents",
   "toc_cell": false,
   "toc_position": {},
   "toc_section_display": true,
   "toc_window_display": false
  }
 },
 "nbformat": 4,
 "nbformat_minor": 2
}
