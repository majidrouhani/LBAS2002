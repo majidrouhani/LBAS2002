{
 "cells": [
  {
   "attachments": {},
   "cell_type": "markdown",
   "metadata": {
    "deletable": false,
    "run_control": {
     "frozen": true
    }
   },
   "source": [
    "# Ulike typer if-setninger\n",
    "\n",
    "**Læringsmål:**\n",
    "\n",
    "- Betingelser"
   ]
  },
  {
   "cell_type": "markdown",
   "metadata": {
    "deletable": false,
    "editable": false,
    "heading_collapsed": true,
    "run_control": {
     "frozen": true
    }
   },
   "source": [
    "## Generelt om if-setninger\n",
    "Dette er ikke en del av oppgaven, men kan være lurt å lese før du begynnner. **Trykk på pilen til venstre for å lese**"
   ]
  },
  {
   "cell_type": "markdown",
   "metadata": {
    "ExecuteTime": {
     "end_time": "2019-07-01T08:54:49.298821Z",
     "start_time": "2019-07-01T08:54:49.289265Z"
    },
    "deletable": false,
    "hidden": true,
    "run_control": {
     "frozen": true
    }
   },
   "source": [
    "I oppgavene i øving 1 har det vært slik at alle setningene i programmet skulle utføres hver gang programmet kjørte. De fleste nyttige programmer er ikke så enkle. Ofte skal visse programsetninger kun utføres under gitte betingelser. Overtidslønn skal utbetales bare hvis det har vært jobbet overtid. Monsteret du kjemper mot i et spill, skal miste liv bare hvis skuddet eller sverdslaget ditt har truffet. En alarm skal aktiveres bare hvis pasientens hjerterytme er blitt unormal. En sosial app på mobilen skal gi et spesielt varsel bare hvis du har fått nye meldinger der. Funksjonen nedenfor viser et eksempel hvor alle linjene blir utført uavhengig av hva som gis som input - denne funksjonen vil anbefale paraply uansett hvordan været er."
   ]
  },
  {
   "cell_type": "code",
   "execution_count": 43,
   "metadata": {
    "ExecuteTime": {
     "end_time": "2019-07-01T08:54:49.298821Z",
     "start_time": "2019-07-01T08:54:49.289265Z"
    },
    "hidden": true
   },
   "outputs": [
    {
     "name": "stdout",
     "output_type": "stream",
     "text": [
      "Regn i mm: 0.1\n",
      "Da anbefaler jeg paraply!\n",
      "Ha en fin tur til universitetet!\n"
     ]
    }
   ],
   "source": [
    "def paraply_simpel(regn):\n",
    "    print(f\"Regn i mm: {regn}\")\n",
    "    print(\"Da anbefaler jeg paraply!\")\n",
    "    print(\"Ha en fin tur til universitetet!\")\n",
    "\n",
    "paraply_simpel(0.1)"
   ]
  },
  {
   "cell_type": "markdown",
   "metadata": {
    "ExecuteTime": {
     "end_time": "2019-07-01T08:54:49.298821Z",
     "start_time": "2019-07-01T08:54:49.289265Z"
    },
    "deletable": false,
    "hidden": true,
    "run_control": {
     "frozen": true
    }
   },
   "source": [
    "Paraply bør anbefales bare ved behov, f.eks. hvis det var meldt mer enn 0.2 mm regn. Det oppnår vi ved å inkludere en if-setning i funksjonen som undersøker hvor mye regn det er meldt:"
   ]
  },
  {
   "cell_type": "code",
   "execution_count": 44,
   "metadata": {},
   "outputs": [
    {
     "name": "stdout",
     "output_type": "stream",
     "text": [
      "Regn i mm: 0.1\n",
      "Jeg burde bruke paraply i dag: Nei\n"
     ]
    }
   ],
   "source": [
    "def paraply_anbefaling(regn):\n",
    "    print(f\"Regn i mm: {regn}\")\n",
    "    \n",
    "    if regn > 0.2:\n",
    "        return \"Ja\"\n",
    "    return \"Nei\"\n",
    "\n",
    "anbefaling = paraply_anbefaling(0.1)\n",
    "print(f\"Jeg burde bruke paraply i dag: {anbefaling}\")"
   ]
  },
  {
   "cell_type": "markdown",
   "metadata": {
    "ExecuteTime": {
     "end_time": "2019-07-01T08:54:49.298821Z",
     "start_time": "2019-07-01T08:54:49.289265Z"
    },
    "deletable": false,
    "hidden": true,
    "run_control": {
     "frozen": true
    }
   },
   "source": [
    "Den ovenstående funksjonen viser en if-setning. Den har følgende struktur:\n",
    "\n",
    "- starter med ordet `if`, dette er et beskyttet ord i Python og kan derfor ikke brukes som variabelnavn e.l.\n",
    "- bak if kommer en logisk betingelse - i dette tilfellet `regn > 0.2` - som vil være enten sann (`True`) eller usann (`False`), her avhengig av innholdet i variabelen regn\n",
    "- bak betingelsen **må** if-setningen ha `:` **(kolon)** - hvis du glemmer kolon vil du få syntaksfeil. \n",
    "- kodelinjen like under if har et innrykk (tabulator), dette betyr at denne linjen - `return \"Ja\"` - er del av if-setningen. Den vil bli utført **kun hvis betingelsen i if-setningen er sann**, som vil inntreffe hvis brukeren skriver inn et større tall enn 0.2\n",
    "- siste kodelinje, `return \"Nei\"` har ikke innrykk, og vil utføres dersom det ikke har blitt returnert noe fra funksjonen enda, med andre ord, dersom `if`-blokken ikke ble gjennomført"
   ]
  },
  {
   "cell_type": "markdown",
   "metadata": {
    "ExecuteTime": {
     "end_time": "2019-07-01T08:54:49.298821Z",
     "start_time": "2019-07-01T08:54:49.289265Z"
    },
    "deletable": false,
    "editable": false,
    "hidden": true,
    "run_control": {
     "frozen": true
    }
   },
   "source": [
    "Det er mulig å ha flere programsetninger som del av if-setningen, for eksempel:"
   ]
  },
  {
   "cell_type": "code",
   "execution_count": 53,
   "metadata": {
    "ExecuteTime": {
     "end_time": "2019-07-01T08:54:49.298821Z",
     "start_time": "2019-07-01T08:54:49.289265Z"
    },
    "hidden": true
   },
   "outputs": [
    {
     "name": "stdout",
     "output_type": "stream",
     "text": [
      "Regn i mm: 0.3\n",
      "Da anbefaler jeg paraply!\n",
      "Gjerne en paraply med NTNU-logo.\n",
      "Ha en fin tur til universitetet!\n"
     ]
    }
   ],
   "source": [
    "def paraply_if(regn):\n",
    "    print(f\"Regn i mm: {regn}\")\n",
    "    \n",
    "    if regn > 0.2:\n",
    "        print(\"Da anbefaler jeg paraply!\")\n",
    "        print(\"Gjerne en paraply med NTNU-logo.\")\n",
    "    print(\"Ha en fin tur til universitetet!\")\n",
    "\n",
    "paraply_if(0.3)"
   ]
  },
  {
   "cell_type": "markdown",
   "metadata": {
    "ExecuteTime": {
     "end_time": "2019-07-01T08:54:49.298821Z",
     "start_time": "2019-07-01T08:54:49.289265Z"
    },
    "deletable": false,
    "editable": false,
    "hidden": true,
    "run_control": {
     "frozen": true
    }
   },
   "source": [
    "Her vil begge \"print\"-setningene om paraply kun bli utført hvis betingelsen er sann, mens \"fin tur\"-setningen fortsatt blir utført uansett utfall av if-setningen.\n",
    "\n",
    "**Altså: I Python viser innrykk hvor mange av de påfølgende setningene som styres av if-betingelsen.** Det er derfor viktig å være nøye med innrykkene og få alle programsetninger på korrekt indentasjonsnivå.\n",
    "\n",
    "Test gjerne ut koden over med forskjellige svar på mm regn for å se hvordan den virker."
   ]
  },
  {
   "cell_type": "markdown",
   "metadata": {
    "deletable": false,
    "editable": false,
    "heading_collapsed": true,
    "run_control": {
     "frozen": true
    }
   },
   "source": [
    "## Generelt om if-else-setninger\n",
    "Dette er ikke en del av oppgaven, men kan være lurt å lese før du går videre. **Trykk på pilen til venstre for å lese**"
   ]
  },
  {
   "cell_type": "markdown",
   "metadata": {
    "deletable": false,
    "editable": false,
    "hidden": true,
    "run_control": {
     "frozen": true
    }
   },
   "source": [
    "I eksemplene knyttet til (a) og (b) skulle vi gjøre noe ekstra hvis en betingelse var sann, ellers la være. I andre tilfeller kan vi ønske å gjøre en handling hvis betingelsen er sann, og en alternativ handling hvis den er usann.\n",
    "\n",
    "Det kan vi oppnå med en **if-else**-setning. Eksemplet nedenfor bygger videre på tilsvarende eksempel for if-setninger."
   ]
  },
  {
   "cell_type": "code",
   "execution_count": 61,
   "metadata": {
    "ExecuteTime": {
     "start_time": "2019-07-01T10:30:04.105Z"
    },
    "hidden": true
   },
   "outputs": [
    {
     "name": "stdout",
     "output_type": "stream",
     "text": [
      "Regn i mm: 0.0\n",
      "Jeg burde bruke paraply i dag: Nei\n",
      "Ha en fin tur til universitetet!\n"
     ]
    }
   ],
   "source": [
    "def paraply_if_else(regn):\n",
    "    print(f\"Regn i mm: {regn}\")\n",
    "    \n",
    "    if regn > 0.2:\n",
    "        anbefaling = \"Ja\"\n",
    "    else:\n",
    "        anbefaling = \"Nei\"\n",
    "    hilsen = \"Ha en fin tur til universitetet!\"\n",
    "    return anbefaling, hilsen\n",
    "\n",
    "anbefaling, hilsen = paraply_if_else(0.0)\n",
    "\n",
    "print(f\"Jeg burde bruke paraply i dag: {anbefaling}\")\n",
    "print(hilsen)"
   ]
  },
  {
   "cell_type": "markdown",
   "metadata": {
    "deletable": false,
    "hidden": true,
    "run_control": {
     "frozen": true
    }
   },
   "source": [
    "I dette eksemplet vil følgende skje hvis vi svarer mer enn 0.2 mm nedbør slik at betingelsen blir sann:\n",
    "\n",
    "**Eksempel på kjøring med over 0.3 mm nedbør:**\n",
    "```\n",
    "paraply_if_else(0.3)\n",
    "\n",
    "Output:\n",
    "Jeg burde bruke paraply i dag: Ja\n",
    "Ha en fin tur til universitetet!\n",
    "```\n",
    "\n",
    "Svares det derimot et lavere tall, slik at betingelsen blir usann, skjer følgende:\n",
    "\n",
    "**Eksempel på kjøring med under 0.0 mm nedbør:**  \n",
    "```\n",
    "paraply_if_else(0.0)\n",
    "\n",
    "Output:\n",
    "Jeg burde bruke paraply i dag: Nei\n",
    "Ha en fin tur til universitetet!\n",
    "```\n",
    "\n",
    "Altså:\n",
    "- Anbefalingen settes til \"Ja\" under `if`-uttrykket bare hvis betingelsen er sann.\n",
    "- Setningen som står på innrykk under `else` blir utført bare hvis betingelsen er usann (kunne også hatt flere setninger på innrykk etter `else`).\n",
    "- Den siste hilsenen, som ikke har innrykk (Ha en fin tur...), blir returnert uansett."
   ]
  },
  {
   "cell_type": "markdown",
   "metadata": {
    "deletable": false,
    "editable": false,
    "heading_collapsed": true,
    "run_control": {
     "frozen": true
    }
   },
   "source": [
    "## Generelt om if-elif-else-setninger\n",
    "Les gjerne denne før du går videre. **Trykk på pilen til venstre for å lese**"
   ]
  },
  {
   "cell_type": "markdown",
   "metadata": {
    "deletable": false,
    "editable": false,
    "hidden": true,
    "run_control": {
     "frozen": true
    }
   },
   "source": [
    "I eksemplene vi har sett hittil, har det vært kun to mulige utfall på betingelsene - kaken har stått >= 50 minutt, eller ikke; antall barn er > 0, eller ikke; alder er over 18, eller ikke. I mange praktiske situasjoner kan det være tre eller flere mulige utfall.\n",
    "\n",
    "F.eks. hvis det var meldt mer enn 3 mm nedbør er kanskje ikke paraply tilstrekkelig, vi ville heller anbefale støvler og regntøy.  Vårt tidligere eksempel kunne da utvides som følger:"
   ]
  },
  {
   "cell_type": "code",
   "execution_count": 65,
   "metadata": {
    "hidden": true
   },
   "outputs": [
    {
     "name": "stdout",
     "output_type": "stream",
     "text": [
      "Regn i mm: 4\n",
      "Dagens anbefaling: Støvler og regntøy\n",
      "Ha en fin tur til universitetet!\n"
     ]
    }
   ],
   "source": [
    "# EKSEMPEL 1\n",
    "\n",
    "def paraply_if_elif_else(regn):\n",
    "    print(f\"Regn i mm: {regn}\")\n",
    "    \n",
    "    if regn > 3.0:\n",
    "        anbefaling = \"Støvler og regntøy\"\n",
    "    elif regn > 0.2:\n",
    "        anbefaling = \"Paraply\"\n",
    "    else:\n",
    "        anbefaling = \"T-skjorte med NTNU-logo\"\n",
    "    hilsen = \"Ha en fin tur til universitetet!\"\n",
    "    \n",
    "    return anbefaling, hilsen\n",
    "\n",
    "anbefaling, hilsen = paraply_if_elif_else(4)\n",
    "print(f\"Dagens anbefaling: {anbefaling}\")\n",
    "print(hilsen)"
   ]
  },
  {
   "cell_type": "markdown",
   "metadata": {
    "deletable": false,
    "hidden": true,
    "run_control": {
     "frozen": true
    }
   },
   "source": [
    "Under vises tre kjøringer av denne koden:\n",
    "\n",
    "```\n",
    "paraply_if_elif_else(4.2)\n",
    "\n",
    "Output:\n",
    "Regn i mm: 4.2\n",
    "Dagens anbefaling: Støvler og regntøy\n",
    "Ha en fin tur til universitetet!\n",
    ">>>\n",
    "```\n",
    "\n",
    "```\n",
    "paraply_if_elif_else(0.3)\n",
    "\n",
    "Output:\n",
    "Regn i mm: 0.3\n",
    "Dagens anbefaling: Paraply\n",
    "Ha en fin tur til universitetet!\n",
    ">>>\n",
    "```\n",
    "\n",
    "```\n",
    "paraply_if_elif_else(0.0)\n",
    "\n",
    "Output:\n",
    "Regn i mm: 0.0\n",
    "Dagens anbefaling: T-skjorte med NTNU-logo\n",
    "Ha en fin tur til universitetet!\n",
    "```"
   ]
  },
  {
   "cell_type": "markdown",
   "metadata": {
    "deletable": false,
    "hidden": true,
    "run_control": {
     "frozen": true
    }
   },
   "source": [
    "Hvis betingelsen `regn > 3.0` er sann, settes anbefalingen til støvler og regntøy, deretter går programmet til første kodelinje etter hele if-elif-else-setningen, og setter hilsenen til (\"Ha en fin tur...\")\n",
    "\n",
    "Hvis betingelsen `regn > 3.0` er usann, settes **ikke** anbefalingen til støvler, programmet sjekker i stedet betingelsen på `elif`. Hvis denne er sann, settes anbefalingen til paraply, og dersom `elif`-påstanden også er usann, settes anbefalingen til T-skjorte med NTNU-logo som tidligere.\n",
    "\n",
    "Det er mulig å klare seg uten if-elif-else-setninger og i stedet bare putte if-else-setninger inni hverandre for å oppnå det samme. Eksemplet ovenfor kunne alternativt skrives:"
   ]
  },
  {
   "cell_type": "code",
   "execution_count": 66,
   "metadata": {
    "hidden": true
   },
   "outputs": [],
   "source": [
    "# EKSEMPEL 2\n",
    "def paraply_nested_if(regn):\n",
    "    if regn > 3.0:\n",
    "        anbefaling = \"Støvler og regntøy\"\n",
    "    else:\n",
    "        if regn > 0.2:\n",
    "            anbefaling = \"Paraply\"\n",
    "        else:\n",
    "            anbefaling = \"T-skjorte med NTNU-logo\"\n",
    "    hilsen = \"Ha en fin tur til universitetet!\"\n",
    "    return anbefaling, hilsen\n",
    "\n",
    "anbefaling, hilsen = paraply_nested_if(0.3)"
   ]
  },
  {
   "cell_type": "markdown",
   "metadata": {
    "deletable": false,
    "editable": false,
    "hidden": true,
    "run_control": {
     "frozen": true
    }
   },
   "source": [
    "Særlig i tilfeller hvor det dreier seg om tre eller flere alternative utfall basert på verdien av den **samme variabelen** (f.eks. `regn` her) vil de fleste oppfatte **if-elif-else**-setninger som både lettere å skrive og lettere å forstå, enn flere nøstede if-else-setninger.\n",
    "\n",
    "Ett typisk eksempel er antall oppnådde poeng på en eksamen, som kan transformeres til en bokstavkarakter A-F etter gitte grenser. Det er da 6 mulige utfall, dette gir mye innrykk og blir vanskelig å lese med nøstede if-setninger:"
   ]
  },
  {
   "cell_type": "code",
   "execution_count": 67,
   "metadata": {
    "hidden": true
   },
   "outputs": [
    {
     "name": "stdout",
     "output_type": "stream",
     "text": [
      "Du fikk C\n"
     ]
    }
   ],
   "source": [
    "# EKSEMPEL 3\n",
    "def hvilken_karakter(score):  \n",
    "    if score >= 89:\n",
    "        return \"A\"\n",
    "    else:\n",
    "        if score >= 77:\n",
    "            return \"B\"\n",
    "        else:\n",
    "            if score >= 65:\n",
    "                return \"C\"\n",
    "            else:\n",
    "                if score >= 53:\n",
    "                    return \"D\"\n",
    "                else:\n",
    "                    if score >= 41:\n",
    "                        return \"E\"\n",
    "                    else:\n",
    "                        return \"F\"\n",
    "\n",
    "karakter = hvilken_karakter(75)\n",
    "print(f\"Du fikk {karakter}\")"
   ]
  },
  {
   "cell_type": "markdown",
   "metadata": {
    "deletable": false,
    "editable": false,
    "hidden": true,
    "run_control": {
     "frozen": true
    }
   },
   "source": [
    "if-elif-else-setning vil være klart å foretrekke i en slik situasjon; det er mye lettere å se at koden her tar en beslutning med 6 alternativer basert på verdien av en enkelt variabel:"
   ]
  },
  {
   "cell_type": "code",
   "execution_count": 68,
   "metadata": {
    "hidden": true
   },
   "outputs": [
    {
     "name": "stdout",
     "output_type": "stream",
     "text": [
      "Du fikk C\n"
     ]
    }
   ],
   "source": [
    "# EKSEMPEL 4\n",
    "def hvilken_karakter(score):  \n",
    "    if score >= 89:\n",
    "        return \"A\"\n",
    "    elif score >= 77:\n",
    "        return \"B\"\n",
    "    elif score >= 65:\n",
    "        return \"C\"\n",
    "    elif score >= 53:\n",
    "        return \"D\"\n",
    "    elif score >= 41:\n",
    "        return \"E\"\n",
    "    else:\n",
    "        return \"F\"\n",
    "\n",
    "karakter = hvilken_karakter(75)\n",
    "print(f\"Du fikk {karakter}\")"
   ]
  },
  {
   "cell_type": "markdown",
   "metadata": {
    "deletable": false,
    "editable": false,
    "hidden": true,
    "run_control": {
     "frozen": true
    }
   },
   "source": [
    "Ved bruk av if-elif-else er det avgjørende at betingelsene kommer i riktig rekkefølge. Anta at vi hadde gjort karaktereksemplet motsatt:"
   ]
  },
  {
   "cell_type": "code",
   "execution_count": 69,
   "metadata": {
    "hidden": true
   },
   "outputs": [
    {
     "name": "stdout",
     "output_type": "stream",
     "text": [
      "Du fikk F\n"
     ]
    }
   ],
   "source": [
    "# EKSEMPEL 5\n",
    "# HER HAR VI MED VILJE HAR GJORT FEIL\n",
    "def hvilken_karakter(score): \n",
    "    if score >= 0:\n",
    "        return \"F\"\n",
    "    elif score >= 41:\n",
    "        return \"E\"\n",
    "    elif score >= 53:\n",
    "        return \"D\"\n",
    "    elif score >= 65:\n",
    "        return \"C\"\n",
    "    elif score >= 77:\n",
    "        return \"B\"\n",
    "    elif score >= 89:\n",
    "        return \"A\"\n",
    " \n",
    "karakter = hvilken_karakter(75)\n",
    "print(f\"Du fikk {karakter}\")"
   ]
  },
  {
   "cell_type": "markdown",
   "metadata": {
    "deletable": false,
    "hidden": true,
    "run_control": {
     "frozen": true
    }
   },
   "source": [
    "Her vil øverste betingelse vil være sann for alle eksamensbesvarelser - og alle ender opp med karakteren F.\n",
    "\n",
    "Det er også viktig når det er snakk om alternativt ekskluderende utfall av samme beslutning at vi bruker **if-elif-else**-setning; **IKKE en serie med frittstående if-setninger**.\n",
    "\n",
    "Eksempel 6 under ser nesten ut som Eksempel 4, bare at vi kun skriver `if` der vi før skrev `elif`. Merk også at funksjonen her bruker en variabel `karakter` for å holde på karakteren, heller enn å returnere den - dette er gjort for å fremheve feilen som oppstår."
   ]
  },
  {
   "cell_type": "code",
   "execution_count": 70,
   "metadata": {
    "hidden": true
   },
   "outputs": [
    {
     "name": "stdout",
     "output_type": "stream",
     "text": [
      "Karakter etter første if: A\n",
      "Karakter etter andre if: B\n",
      "Karakter etter tredje if: C\n",
      "Karakter etter fjerde if: D\n",
      "Karakter etter femte if: E\n",
      "Du fikk F\n"
     ]
    }
   ],
   "source": [
    "# EKSEMPEL 6\n",
    "# HER HAR VI MED VILJE HAR GJORT FEIL\n",
    "def hvilken_karakter(score):\n",
    "    karakter = \"\"\n",
    "    if score >= 89:\n",
    "        karakter = \"A\"\n",
    "        print(f\"Karakter etter første if: {karakter}\")\n",
    "    if score >= 77:\n",
    "        karakter = \"B\"\n",
    "        print(f\"Karakter etter andre if: {karakter}\")\n",
    "    if score >= 65:\n",
    "        karakter = \"C\"\n",
    "        print(f\"Karakter etter tredje if: {karakter}\")\n",
    "    if score >= 53:\n",
    "        karakter = \"D\"\n",
    "        print(f\"Karakter etter fjerde if: {karakter}\")\n",
    "    if score >= 41:\n",
    "        karakter = \"E\"\n",
    "        print(f\"Karakter etter femte if: {karakter}\")\n",
    "    else:\n",
    "        karakter = \"F\"\n",
    "    return karakter\n",
    "\n",
    "hvilken_karakter(92)\n",
    "print(f\"Du fikk {karakter}\")"
   ]
  },
  {
   "cell_type": "markdown",
   "metadata": {
    "deletable": false,
    "editable": false,
    "hidden": true,
    "run_control": {
     "frozen": true
    }
   },
   "source": [
    "En student som har fått 92 poeng vil her komme riktig ut av den første if-setningen, og karakter settes til A. Men 92 > 77 er også sant, så karakter omgjøres deretter til B. Så til C, så til D, så til E.\n",
    "\n",
    "De eneste tilfellene som dette programmet vil takle korrekt blir dermed studenter som skal ha E eller F.\n",
    "\n",
    "Feilen her er at vi bruker nye frittstående if-setninger (dvs. som ikke er relatert til hverandre), mens vi egentlig har å gjøre med gjensidig ekskluderende alternativer som skulle vært løst med if-elif-else.\n",
    "\n",
    "Hvor er det eventuelt riktig å bruke frittstående if-setninger? Jo, hvis det er snakk om flere uavhengige beslutninger. I eksempel 7 under er det to uavhengige beslutninger, den ene om man skal ta paraply eller ikke, den andre om brodder eller ikke. Hver beslutning tas uavhengig av den andre, da blir det riktig med to frittstående if-setninger.\n",
    "\n",
    "Hadde vi i stedet brukt if-elif her, ville programmet ikke ha virket som det skulle, da det kun ville ha vært i stand til å anbefale brodder i oppholdsvær (mens det jo kan være minst like glatt om det regner)."
   ]
  },
  {
   "cell_type": "code",
   "execution_count": 78,
   "metadata": {
    "ExecuteTime": {
     "start_time": "2019-07-01T11:00:12.045Z"
    },
    "hidden": true
   },
   "outputs": [
    {
     "name": "stdout",
     "output_type": "stream",
     "text": [
      "Regn i mm: 0.3\n",
      "Hvor glatt er det på en skala fra 1 til 10: 9\n",
      "Da anbefaler jeg paraply. \n",
      "Da anbefaler jeg sko med brodder eller pigger.\n"
     ]
    }
   ],
   "source": [
    "# EKSEMPEL 7\n",
    "def paraply_og_brodder(regn, glatt):\n",
    "    print(f\"Regn i mm: {regn}\")\n",
    "    print(f\"Hvor glatt er det på en skala fra 1 til 10: {glatt}\")\n",
    "    anbefaling = \"\"\n",
    "    if regn > 0.2:\n",
    "        anbefaling += \"Da anbefaler jeg paraply. \\n\"\n",
    "    if glatt > 8:\n",
    "        anbefaling += \"Da anbefaler jeg sko med brodder eller pigger.\"\n",
    "    return anbefaling\n",
    "\n",
    "anbefaling = paraply_og_brodder(0.3, 9)\n",
    "print(anbefaling)"
   ]
  },
  {
   "cell_type": "markdown",
   "metadata": {
    "deletable": false,
    "editable": false,
    "hidden": true,
    "run_control": {
     "frozen": true
    }
   },
   "source": [
    "I andre tilfeller kan en beslutning være avhengig av en annen, f.eks. kun være aktuell ved et visst utfall av en foregående if-setning. Som i eksempel 8 under:"
   ]
  },
  {
   "cell_type": "code",
   "execution_count": 80,
   "metadata": {
    "hidden": true
   },
   "outputs": [
    {
     "name": "stdout",
     "output_type": "stream",
     "text": [
      "Regn i mm: 0.3\n",
      "Vind i sekundmeter: 9\n",
      "Anbefaler regntøy, for mye vind for paraply.\n"
     ]
    }
   ],
   "source": [
    "# EKSEMPEL 8\n",
    "def paraply_i_vind(regn, vind):\n",
    "    print(f\"Regn i mm: {regn}\")\n",
    "    print(f\"Vind i sekundmeter: {vind}\")\n",
    "    if regn > 0.2:\n",
    "        if vind < 7.0:\n",
    "            return \"Da anbefaler jeg paraply.\"\n",
    "        else:\n",
    "            return \"Anbefaler regntøy, for mye vind for paraply.\"\n",
    "\n",
    "anbefaling = paraply_i_vind(0.3, 9)\n",
    "print(anbefaling)"
   ]
  },
  {
   "cell_type": "markdown",
   "metadata": {
    "deletable": false,
    "editable": false,
    "hidden": true,
    "run_control": {
     "frozen": true
    }
   },
   "source": [
    "Her ville if `regn > 0.2:` .....`elif vind < 7.0` ha blitt feil.\n",
    "\n",
    "Programmet ville da ha gjort vurderinger av vinden kun hvis det ikke regnet, og dermed ha vært ute av stand til å fraråde paraply hvis det regner og samtidig blåser kraftig.\n",
    "\n",
    "**Oppsummert:**\n",
    "\n",
    "- flere helt uavhengige beslutninger: bruk frittstående if-setninger\n",
    "- beslutning med gjensidig utelukkende handlingsalternativer: bruk if-else (2 alternativer) eller if-elif-else (3 eller flere alternativer)\n",
    "- beslutninger relatert på annen måte, f.eks. at en betingelse (som `vind < 7.0` ovenfor) kun er aktuell gitt et visst utfall av en annen betingelse: kan løses ved å nøste flere if-setninger inni hverandre\n"
   ]
  }
 ],
 "metadata": {
  "celltoolbar": "Edit Metadata",
  "kernelspec": {
   "display_name": "Python 3",
   "language": "python",
   "name": "python3"
  },
  "language_info": {
   "codemirror_mode": {
    "name": "ipython",
    "version": 3
   },
   "file_extension": ".py",
   "mimetype": "text/x-python",
   "name": "python",
   "nbconvert_exporter": "python",
   "pygments_lexer": "ipython3",
   "version": "3.9.2"
  },
  "toc": {
   "base_numbering": 1,
   "nav_menu": {},
   "number_sections": false,
   "sideBar": true,
   "skip_h1_title": false,
   "title_cell": "Table of Contents",
   "title_sidebar": "Contents",
   "toc_cell": false,
   "toc_position": {
    "height": "calc(100% - 180px)",
    "left": "10px",
    "top": "150px",
    "width": "265px"
   },
   "toc_section_display": true,
   "toc_window_display": false
  }
 },
 "nbformat": 4,
 "nbformat_minor": 2
}
