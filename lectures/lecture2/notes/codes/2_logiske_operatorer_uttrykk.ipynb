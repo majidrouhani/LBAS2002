{
 "cells": [
  {
   "attachments": {},
   "cell_type": "markdown",
   "metadata": {
    "deletable": false,
    "run_control": {
     "frozen": true
    }
   },
   "source": [
    "# Logiske operatorer og logiske uttrykk\n",
    "\n",
    "**Læringsmål:**\n",
    "- Logiske uttrykk\n",
    "- Betingelser\n",
    "- Kodeforståelse\n",
    "- Funksjoner\n",
    "\n",
    "I denne oppgaven skal vi lære om logiske uttrykk og hvordan de kan settes sammen med `and`, `or` og `not`."
   ]
  },
  {
   "cell_type": "markdown",
   "metadata": {
    "deletable": false,
    "editable": false,
    "heading_collapsed": true,
    "run_control": {
     "frozen": true
    }
   },
   "source": [
    "## Generelt om logiske operatorer og logiske uttrykk\n",
    "\n",
    "Dette er ikke en del av oppgaven, men kan være lurt å lese før du begynner."
   ]
  },
  {
   "cell_type": "markdown",
   "metadata": {
    "deletable": false,
    "editable": false,
    "hidden": true,
    "run_control": {
     "frozen": true
    }
   },
   "source": [
    "I de tidligere oppgavene i denne øvingen var alle betingelsene enkle betingelser hvor vi typisk sammenlignet to verdier. De vanlige operatorene vi har for å sammenligne verdier er:\n",
    "\n",
    "- `==` (som betyr \"er lik\", merk at her er to likhetstegn nødvendig for å skille fra tilordningsoperatoren)\n",
    "- `!=` (som betyr \"ulik\", altså det motsatte av ==)\n",
    "- `>` , `<` , `>=` , `<=` (som betyr henholdsvis større, mindre, større eller lik, og mindre eller lik)\n",
    "\n",
    "Ofte kan beslutninger være avhengig av verdien til **flere** variable, eller for den del flere betingelser for samme variabel.\n",
    "\n",
    "Ved hjelp av logiske operatorer kan vi teste for flere betingelser i samme if-setning. Eksemplet nedenfor viser et lite program som leser inn temperatur og vind og så skal skrive et varsel om ekstremvær hvis det er kaldere enn -30, varmere enn 40, eller mer vind enn 20 m/s.\n",
    "\n",
    "Her viser vi dette løst på to alternative måter, først med enkle betingelser og en if-elif-setning (linje 5-10), deretter med en enkelt if-setning med en sammensatt betingelse med `or` mellom (linje 13-14). **OBS:** Trykk på View -> Toggle Line Numbers i menyen på toppen for å se linjenummer.\n",
    "\n",
    "Når det står `or` mellom betingelser er det nok at en av dem er sann for at hele uttrykket skal bli sant (men også sant om begge er sanne); den sammensatte varianten vil dermed gi samme resultat som if-elif-setningen bare at vi med vilje har droppet utropstegn i siste print så du lett skal se hva som er hva."
   ]
  },
  {
   "cell_type": "code",
   "execution_count": 6,
   "metadata": {
    "hidden": true
   },
   "outputs": [
    {
     "data": {
      "text/plain": [
       "'VARSEL: Ekstremvær!'"
      ]
     },
     "execution_count": 6,
     "metadata": {},
     "output_type": "execute_result"
    }
   ],
   "source": [
    "########## Eksempel 1 ##########\n",
    "\n",
    "# VARIANT MED if-elif\n",
    "def ekstremvær_if_elif(temp, vind):\n",
    "    if temp < -30:\n",
    "        return \"VARSEL: Ekstremvær!\"\n",
    "    elif temp > 40:\n",
    "        return \"VARSEL: Ekstremvær!\"\n",
    "    elif vind > 20:\n",
    "        return \"VARSEL: Ekstremvær!\"\n",
    "    \n",
    "ekstremvær_if_elif(50, 2)"
   ]
  },
  {
   "cell_type": "code",
   "execution_count": 3,
   "metadata": {},
   "outputs": [
    {
     "data": {
      "text/plain": [
       "'VARSEL: Ekstremvær'"
      ]
     },
     "execution_count": 3,
     "metadata": {},
     "output_type": "execute_result"
    }
   ],
   "source": [
    "########## Eksempel 2 ##########\n",
    "\n",
    "# VARIANT MED SAMMENSATT BETINGELSE\n",
    "def ekstremvær_sammensatt(temp, vind):\n",
    "    if temp < -30 or temp > 40 or vind > 20:\n",
    "        return \"VARSEL: Ekstremvær\"\n",
    "\n",
    "ekstremvær_sammensatt(10, 40)"
   ]
  },
  {
   "cell_type": "markdown",
   "metadata": {
    "deletable": false,
    "editable": false,
    "hidden": true,
    "run_control": {
     "frozen": true
    }
   },
   "source": [
    "Merk at varianten med sammensatt betingelse kun funker her fordi det er samme tekst som skal skrives i alle de tre tilfellene. Hvis utskriften skulle ha vært mer spesifikk (f.eks. ekstremt kaldt / ekstremt varmt / ...), måtte vi ha brukt if-elif...\n",
    "\n",
    "Tilsvarende kan vi i noen tilfeller unngå nøstede if-setninger (linje 5-7 i eksemplet under) ved å sette sammen betingelser med `and` (linje 10-11 under). Når det er `and` mellom to betingelser, må **begge** være sanne for at hele uttrykket skal bli sant."
   ]
  },
  {
   "cell_type": "code",
   "execution_count": 4,
   "metadata": {
    "ExecuteTime": {
     "end_time": "2019-07-02T06:42:19.110725Z",
     "start_time": "2019-07-02T06:42:10.950922Z"
    },
    "hidden": true
   },
   "outputs": [
    {
     "name": "stdout",
     "output_type": "stream",
     "text": [
      "Regn i mm: 0.3\n",
      "Vind i sekundmeter: 6.0\n",
      "Anbefaler paraply.\n"
     ]
    }
   ],
   "source": [
    "########## Eksempel 3 ##########\n",
    "\n",
    "def paraply(regn, vind):\n",
    "    print(f\"Regn i mm: {regn}\")\n",
    "    print(f\"Vind i sekundmeter: {vind}\")\n",
    "    \n",
    "    # VARIANT MED NØSTEDE if-setninger\n",
    "    if regn > 0.2:\n",
    "        if vind < 7.0:\n",
    "            return \"Anbefaler paraply.\"\n",
    "    return \"Anbefaler ikke paraply\"\n",
    "        \n",
    "\n",
    "anbefaling = paraply(0.3, 6.0)\n",
    "print(anbefaling)"
   ]
  },
  {
   "cell_type": "code",
   "execution_count": 5,
   "metadata": {},
   "outputs": [
    {
     "name": "stdout",
     "output_type": "stream",
     "text": [
      "Regn i mm: 0.3\n",
      "Vind i sekundmeter: 6.0\n",
      "Anbefaler paraply.\n"
     ]
    }
   ],
   "source": [
    "########## Eksempel 4 ##########\n",
    "\n",
    "def paraply_sammensatt(regn, vind):\n",
    "    print(f\"Regn i mm: {regn}\")\n",
    "    print(f\"Vind i sekundmeter: {vind}\")\n",
    "    \n",
    "    # VARIANT MED SAMMENSATT BETINGELSE\n",
    "    if regn > 0.2 and vind < 7.0:\n",
    "        return \"Anbefaler paraply.\"\n",
    "    return \"Anbefaler ikke paraply\"\n",
    "\n",
    "anbefaling = paraply_sammensatt(0.3, 6.0)\n",
    "print(anbefaling)"
   ]
  },
  {
   "cell_type": "markdown",
   "metadata": {
    "deletable": false,
    "hidden": true,
    "run_control": {
     "frozen": true
    }
   },
   "source": [
    "I begge de foregående eksemplene vil nok de fleste si at variantene med sammensatte betingelser er klart å foretrekke framfor if-elif eller nøstet if. Bruk av sammensatte betingelser gjør koden kortere og enklere å forstå.\n",
    "\n",
    "Det er typisk tre operatorer vi bruker for å sette sammen betingelser: `and`, `or`, `not`\n",
    "\n",
    "Disse virker på følgende måte:\n",
    "\n",
    "- betingelse1 `and` betingelse2 blir True (sant) bare hvis **både** betingelse1 og betingelse2 er True, ellers blir uttrykket False (usant)\n",
    "- betingelse1 `or` betingelse2 blir True (sann) hvis **minst en** av betingelsene er True, ellers False\n",
    "- `not` betingelse1 blir True hvis betingelse1 er False, og False hvis betingelse1 er True\n",
    "- Man kan sette sammen mer komplekse betingelser ved å bruke flere av dem. \n",
    "\n",
    "Presedensregler: `not` har større presedens enn `and`, som har større enn `or`.\n",
    "\n",
    "F.eks. anta at\n",
    "\n",
    "`if regn > 0.2 and vind < 7.0 or solbrentfare > 0.9 and not solkrembeholdning > 0:` er gitt som betingelse for å ta med paraply\n",
    "\n",
    "Ifølge presedensreglene vil `not` evalueres først, deretter `and`, og til slutt `or`. Uttrykket kan dermed ses som to alternative måter for å anbefale paraply (delt av `or` i midten), nemlig:\n",
    "\n",
    "ENTEN at både `regn > 0.2` og `vind < 0.7` er sanne. Det spiller da ingen rolle hvilken verdi vi har for solbrentfare osv. (siden den har `or` foran seg)\n",
    "ELLER at `solbrentfare > 0.9` er sann, samtidig som `solkrembeholdning > 0` er usann (slik at `not solkrembeholdning > 0` vil være sann)\n",
    "I det siste tilfellet er det rimelig å anta at paraply er tenkt å beskytte mot sol, ikke mot regn.\n",
    "\n",
    "Merk at selv om sammensatte betingelser gjorde koden kortere og enklere å forstå i eksemplene over, er ikke dette alltid tilfelle. Hvis man ender med veldig store sammensatte betingelser, vil disse i seg selv være vanskelig å forstå, slik at kanskje noe oppsplitting med if-elif... eller nøsting av if-setninger kunne ha vært bedre.\n",
    "\n",
    "Men se først om det er mulig å skrive betingelsen enklere. Dette gjelder særlig hvis det er mye bruk av `not`. Akkurat som mye bruk av negasjoner i vanlig norsk vil gjøre en tekst vanskelig å forstå, vil mye bruk av `not` gjøre Python-betingelser vanskelige å forstå - og kunne kanskje vært unngått. F.eks.\n",
    "\n",
    "- `not a < 10` kan like gjerne skrives `a >= 10`\n",
    "- `not a == 10` kan like gjerne skrives `a != 10`\n",
    "- `not (c < 0 or c > 255)` kan like gjerne skrives `c >= 0 and c <= 255` eller enda enklere `0 <= c <= 255`.\n",
    "Det fins tilfeller hvor `not` er lurt å bruke, men bruk den med måte, bare når bedre alternativer ikke finnes."
   ]
  }
 ],
 "metadata": {
  "celltoolbar": "Edit Metadata",
  "kernelspec": {
   "display_name": "Python 3",
   "language": "python",
   "name": "python3"
  },
  "language_info": {
   "codemirror_mode": {
    "name": "ipython",
    "version": 3
   },
   "file_extension": ".py",
   "mimetype": "text/x-python",
   "name": "python",
   "nbconvert_exporter": "python",
   "pygments_lexer": "ipython3",
   "version": "3.9.2"
  },
  "toc": {
   "base_numbering": 1,
   "nav_menu": {},
   "number_sections": false,
   "sideBar": true,
   "skip_h1_title": false,
   "title_cell": "Table of Contents",
   "title_sidebar": "Contents",
   "toc_cell": false,
   "toc_position": {},
   "toc_section_display": true,
   "toc_window_display": false
  }
 },
 "nbformat": 4,
 "nbformat_minor": 2
}
