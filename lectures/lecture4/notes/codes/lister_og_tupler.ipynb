{
 "cells": [
  {
   "attachments": {},
   "cell_type": "markdown",
   "metadata": {},
   "source": [
    "# Lister og tupler\n",
    "\n",
    "**Læringsmål:**\n",
    "\n",
    "* Lister\n",
    "* Tupler\n",
    "\n"
   ]
  },
  {
   "attachments": {},
   "cell_type": "markdown",
   "metadata": {},
   "source": [
    "Denne oppgaven handler om *muterende* endringer av lister, samt forskjellen mellom tupler og lister. Hovedpoenget med muterende endringer er at dette er endringer, f.eks i en funksjon som skal være permanente *etter* at funksjonen avsluttes. Eksempelet under illustrerer en vanlig fallgruve knyttet til dette:\n",
    "\n",
    "```python\n",
    "lis1 = [1,2,3]\n",
    "lis2 = lis1\n",
    "lis3 = lis1[:]\n",
    "lis1[0] = 2\n",
    "print(lis2)\n",
    "print(lis3)\n",
    "    \n",
    "Out: [2, 2, 3]\n",
    "     [1, 2, 3]\n",
    "```"
   ]
  },
  {
   "attachments": {},
   "cell_type": "markdown",
   "metadata": {},
   "source": [
    "### Handleliste eksempel"
   ]
  },
  {
   "cell_type": "code",
   "execution_count": null,
   "metadata": {},
   "outputs": [],
   "source": [
    "frukt_liste = ['Banana', 'Appelsin', 'Eple']\n",
    "gronnsak_liste = ['Gullrot','Asparges', 'Purreløk','Salat']\n",
    "div_liste = ['Kjøttdeig', 'Makaroni', 'Salt']\n",
    "\n",
    "(frukt_liste, gronnsak_liste, div_liste)"
   ]
  },
  {
   "cell_type": "code",
   "execution_count": null,
   "metadata": {},
   "outputs": [],
   "source": [
    "\n",
    "handleliste_1 = ['Handleliste for 08.04.2023',frukt_liste, gronnsak_liste, div_liste]\n",
    "handleliste_2 = handleliste_1\n",
    "handleliste_2[0] = 'Handleliste for 09.04.2023' # Handleliste_1 er også endret!\n",
    "\n",
    "(handleliste_1, handleliste_2)"
   ]
  },
  {
   "cell_type": "code",
   "execution_count": null,
   "metadata": {},
   "outputs": [],
   "source": [
    "\n",
    "handleliste_3 = handleliste_1[:] # 'Showllow' kopi\n",
    "handleliste_3[0] = 'Handleliste for 11.04.2023' # Handleliste_1 blir ikke endret!\n",
    "\n",
    "(handleliste_1, handleliste_3)"
   ]
  },
  {
   "cell_type": "code",
   "execution_count": null,
   "metadata": {},
   "outputs": [],
   "source": [
    "\n",
    "handleliste_1[1].append('Druer')\n",
    "\n",
    "(handleliste_1, handleliste_3)   #Handleliste_3 inneholder Druer også! (Pga showllow kopiering)"
   ]
  },
  {
   "cell_type": "code",
   "execution_count": null,
   "metadata": {},
   "outputs": [],
   "source": [
    "import copy\n",
    "\n",
    "handleliste_4 = copy.deepcopy(handleliste_1)\n",
    "\n",
    "handleliste_1[2].append('Tomat')\n",
    "\n",
    "(handleliste_1, handleliste_4)"
   ]
  },
  {
   "attachments": {},
   "cell_type": "markdown",
   "metadata": {},
   "source": [
    "### Tuper\n",
    "\n",
    "Er det samme som lister med den forskjellen at de ikke kan endres. Bruker paranteser når vi definerer dem"
   ]
  },
  {
   "cell_type": "code",
   "execution_count": 9,
   "metadata": {},
   "outputs": [],
   "source": [
    "ukedager = ('mandag', 'tirsdag', 'onsdag', 'torsdag', 'fredag', 'lørdag', 'søndag')\n",
    "\n"
   ]
  }
 ],
 "metadata": {
  "kernelspec": {
   "display_name": "Python 3",
   "language": "python",
   "name": "python3"
  },
  "language_info": {
   "codemirror_mode": {
    "name": "ipython",
    "version": 3
   },
   "file_extension": ".py",
   "mimetype": "text/x-python",
   "name": "python",
   "nbconvert_exporter": "python",
   "pygments_lexer": "ipython3",
   "version": "3.11.2"
  }
 },
 "nbformat": 4,
 "nbformat_minor": 2
}
